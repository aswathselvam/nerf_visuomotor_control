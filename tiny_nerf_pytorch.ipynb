{
  "cells": [
    {
      "cell_type": "markdown",
      "metadata": {
        "id": "XZh3aklt3ZET"
      },
      "source": [
        "## Tiny NeRF (A PyTorch implementation)\n",
        "\n",
        "So, this weekend, I was catching up on this _cool paper_ titled [*NeRF: Representing scenes as neural radiance fields for view synthesis*](https://arxiv.org/abs/2003.08934)!\n",
        "\n",
        "The authors released a TensorFlow implementation [here](https://github.com/bmild/nerf). Deciding to delve deeper, I ported their code to PyTorch, cause why not!\n",
        "\n",
        "> *DISCLAIMER*: This notebook (and repository) is work-in-progress. Although I have rigorously tested most modules in here (to faithfully replicate the original implementation), my implementation at places deviates from the authors'. Comments/criticism welcome!\n",
        "\n",
        "> All functions that have a `#TESTED` under the docstring imply that they have been tested against their corresponding tensorflow impls."
      ]
    },
    {
      "cell_type": "code",
      "execution_count": 1,
      "metadata": {
        "id": "ptTYjWao3VsM"
      },
      "outputs": [],
      "source": [
        "# Import all the good stuff\n",
        "from typing import Optional\n",
        "\n",
        "import numpy as np\n",
        "import torch\n",
        "import matplotlib.pyplot as plt"
      ]
    },
    {
      "cell_type": "markdown",
      "metadata": {
        "id": "toIYVxPL5IDO"
      },
      "source": [
        "## A few utility functions"
      ]
    },
    {
      "cell_type": "markdown",
      "metadata": {
        "id": "mbFYbEbV7ZFD"
      },
      "source": [
        "#### Bridging PyTorch and TensorFlow functionality\n",
        "\n",
        "There's plenty of differences in function signatures (and in functionality) b/w PyTorch and TensorFlow. Here's a few modules that help bridge the gap (for this particular impl)."
      ]
    },
    {
      "cell_type": "code",
      "execution_count": 2,
      "metadata": {
        "id": "Qbdf8GDL4_0Z"
      },
      "outputs": [],
      "source": [
        "def meshgrid_xy(tensor1: torch.Tensor, tensor2: torch.Tensor) -> (torch.Tensor, torch.Tensor):\n",
        "    \"\"\"Mimick np.meshgrid(..., indexing=\"xy\") in pytorch. torch.meshgrid only allows \"ij\" indexing.\n",
        "    (If you're unsure what this means, safely skip trying to understand this, and run a tiny example!)\n",
        "\n",
        "    Args:\n",
        "      tensor1 (torch.Tensor): Tensor whose elements define the first dimension of the returned meshgrid.\n",
        "      tensor2 (torch.Tensor): Tensor whose elements define the second dimension of the returned meshgrid.\n",
        "    \"\"\"\n",
        "    # TESTED\n",
        "    ii, jj = torch.meshgrid(tensor1, tensor2)\n",
        "    return ii.transpose(-1, -2), jj.transpose(-1, -2)\n",
        "\n",
        "\n",
        "def cumprod_exclusive(tensor: torch.Tensor) -> torch.Tensor:\n",
        "  r\"\"\"Mimick functionality of tf.math.cumprod(..., exclusive=True), as it isn't available in PyTorch.\n",
        "\n",
        "  Args:\n",
        "    tensor (torch.Tensor): Tensor whose cumprod (cumulative product, see `torch.cumprod`) along dim=-1\n",
        "      is to be computed.\n",
        "  \n",
        "  Returns:\n",
        "    cumprod (torch.Tensor): cumprod of Tensor along dim=-1, mimiciking the functionality of\n",
        "      tf.math.cumprod(..., exclusive=True) (see `tf.math.cumprod` for details).\n",
        "  \"\"\"\n",
        "  # TESTED\n",
        "  # Only works for the last dimension (dim=-1)\n",
        "  dim = -1\n",
        "  # Compute regular cumprod first (this is equivalent to `tf.math.cumprod(..., exclusive=False)`).\n",
        "  cumprod = torch.cumprod(tensor, dim)\n",
        "  # \"Roll\" the elements along dimension 'dim' by 1 element.\n",
        "  cumprod = torch.roll(cumprod, 1, dim)\n",
        "  # Replace the first element by \"1\" as this is what tf.cumprod(..., exclusive=True) does.\n",
        "  cumprod[..., 0] = 1.\n",
        "  \n",
        "  return cumprod"
      ]
    },
    {
      "cell_type": "markdown",
      "metadata": {
        "id": "ZcCuOfj-7OPN"
      },
      "source": [
        "#### Compute the \"bundle\" of rays through all pixels of an image."
      ]
    },
    {
      "cell_type": "code",
      "execution_count": 3,
      "metadata": {
        "id": "EHNwlsOT7NTp"
      },
      "outputs": [],
      "source": [
        "def get_ray_bundle(height: int, width: int, focal_length: float, tform_cam2world: torch.Tensor):\n",
        "  r\"\"\"Compute the bundle of rays passing through all pixels of an image (one ray per pixel).\n",
        "\n",
        "  Args:\n",
        "    height (int): Height of an image (number of pixels).\n",
        "    width (int): Width of an image (number of pixels).\n",
        "    focal_length (float or torch.Tensor): Focal length (number of pixels, i.e., calibrated intrinsics).\n",
        "    tform_cam2world (torch.Tensor): A 6-DoF rigid-body transform (shape: :math:`(4, 4)`) that\n",
        "      transforms a 3D point from the camera frame to the \"world\" frame for the current example.\n",
        "  \n",
        "  Returns:\n",
        "    ray_origins (torch.Tensor): A tensor of shape :math:`(width, height, 3)` denoting the centers of\n",
        "      each ray. `ray_origins[i][j]` denotes the origin of the ray passing through pixel at\n",
        "      row index `j` and column index `i`.\n",
        "      (TODO: double check if explanation of row and col indices convention is right).\n",
        "    ray_directions (torch.Tensor): A tensor of shape :math:`(width, height, 3)` denoting the\n",
        "      direction of each ray (a unit vector). `ray_directions[i][j]` denotes the direction of the ray\n",
        "      passing through the pixel at row index `j` and column index `i`.\n",
        "      (TODO: double check if explanation of row and col indices convention is right).\n",
        "  \"\"\"\n",
        "  # TESTED\n",
        "  ii, jj = meshgrid_xy(\n",
        "      torch.arange(width).to(tform_cam2world),\n",
        "      torch.arange(height).to(tform_cam2world)\n",
        "  )\n",
        "  directions = torch.stack([(ii - width * .5) / focal_length,\n",
        "                            -(jj - height * .5) / focal_length,\n",
        "                            -torch.ones_like(ii)\n",
        "                           ], dim=-1)\n",
        "  ray_directions = torch.sum(directions[..., None, :] * tform_cam2world[:3, :3], dim=-1)\n",
        "  ray_origins = tform_cam2world[:3, -1].expand(ray_directions.shape)\n",
        "  return ray_origins, ray_directions"
      ]
    },
    {
      "cell_type": "markdown",
      "metadata": {
        "id": "o1bcBtvR-s0_"
      },
      "source": [
        "#### Compute \"query\" 3D points given the \"bundle\" of rays.\n",
        "\n",
        "We assume that a _near_ and a _far_ clipping distance are provided that delineate the volume of interest. Each ray is evaluated only within these bounds. We randomly sample points along each ray, while trying to ensure most parts of the ray's trajectory are spanned."
      ]
    },
    {
      "cell_type": "code",
      "execution_count": 4,
      "metadata": {
        "id": "wAAfDK2L-faR"
      },
      "outputs": [],
      "source": [
        "def compute_query_points_from_rays(\n",
        "    ray_origins: torch.Tensor,\n",
        "    ray_directions: torch.Tensor,\n",
        "    near_thresh: float,\n",
        "    far_thresh: float,\n",
        "    num_samples: int,\n",
        "    randomize: Optional[bool] = True\n",
        ") -> (torch.Tensor, torch.Tensor):\n",
        "  r\"\"\"Compute query 3D points given the \"bundle\" of rays. The near_thresh and far_thresh\n",
        "  variables indicate the bounds within which 3D points are to be sampled.\n",
        "\n",
        "  Args:\n",
        "    ray_origins (torch.Tensor): Origin of each ray in the \"bundle\" as returned by the\n",
        "      `get_ray_bundle()` method (shape: :math:`(width, height, 3)`).\n",
        "    ray_directions (torch.Tensor): Direction of each ray in the \"bundle\" as returned by the\n",
        "      `get_ray_bundle()` method (shape: :math:`(width, height, 3)`).\n",
        "    near_thresh (float): The 'near' extent of the bounding volume (i.e., the nearest depth\n",
        "      coordinate that is of interest/relevance).\n",
        "    far_thresh (float): The 'far' extent of the bounding volume (i.e., the farthest depth\n",
        "      coordinate that is of interest/relevance).\n",
        "    num_samples (int): Number of samples to be drawn along each ray. Samples are drawn\n",
        "      randomly, whilst trying to ensure \"some form of\" uniform spacing among them.\n",
        "    randomize (optional, bool): Whether or not to randomize the sampling of query points.\n",
        "      By default, this is set to `True`. If disabled (by setting to `False`), we sample\n",
        "      uniformly spaced points along each ray in the \"bundle\".\n",
        "  \n",
        "  Returns:\n",
        "    query_points (torch.Tensor): Query points along each ray\n",
        "      (shape: :math:`(width, height, num_samples, 3)`).\n",
        "    depth_values (torch.Tensor): Sampled depth values along each ray\n",
        "      (shape: :math:`(num_samples)`).\n",
        "  \"\"\"\n",
        "  # TESTED\n",
        "  # shape: (num_samples)\n",
        "  depth_values = torch.linspace(near_thresh, far_thresh, num_samples).to(ray_origins)\n",
        "  if randomize is True:\n",
        "    # ray_origins: (width, height, 3)\n",
        "    # noise_shape = (width, height, num_samples)\n",
        "    noise_shape = list(ray_origins.shape[:-1]) + [num_samples]\n",
        "    # depth_values: (num_samples)\n",
        "    depth_values = depth_values \\\n",
        "        + torch.rand(noise_shape).to(ray_origins) * (far_thresh\n",
        "            - near_thresh) / num_samples\n",
        "  # (width, height, num_samples, 3) = (width, height, 1, 3) + (width, height, 1, 3) * (num_samples, 1)\n",
        "  # query_points:  (width, height, num_samples, 3)\n",
        "  query_points = ray_origins[..., None, :] + ray_directions[..., None, :] * depth_values[..., :, None]\n",
        "  # TODO: Double-check that `depth_values` returned is of shape `(num_samples)`.\n",
        "  return query_points, depth_values"
      ]
    },
    {
      "cell_type": "markdown",
      "metadata": {
        "id": "KqcXnLXpDgsR"
      },
      "source": [
        "#### Volumetric rendering\n",
        "\n",
        "> **NOTE**: This volumetric rendering module (like the authors' tiny_nerf [Colab notebook](https://colab.research.google.com/github/bmild/nerf/blob/master/tiny_nerf.ipynb) does not implement 5D input (which includes view directions, in addition to X, Y, Z coordinates). It also does not implement the hierarchical sampling procedure. For those implementations, refer to the other complete examples in the repo."
      ]
    },
    {
      "cell_type": "code",
      "execution_count": 5,
      "metadata": {
        "id": "UuZn7lMFDZXy"
      },
      "outputs": [],
      "source": [
        "def render_volume_density(\n",
        "    radiance_field: torch.Tensor,\n",
        "    ray_origins: torch.Tensor,\n",
        "    depth_values: torch.Tensor\n",
        ") -> (torch.Tensor, torch.Tensor, torch.Tensor):\n",
        "  r\"\"\"Differentiably renders a radiance field, given the origin of each ray in the\n",
        "  \"bundle\", and the sampled depth values along them.\n",
        "\n",
        "  Args:\n",
        "    radiance_field (torch.Tensor): A \"field\" where, at each query location (X, Y, Z),\n",
        "      we have an emitted (RGB) color and a volume density (denoted :math:`\\sigma` in\n",
        "      the paper) (shape: :math:`(width, height, num_samples, 4)`).\n",
        "    ray_origins (torch.Tensor): Origin of each ray in the \"bundle\" as returned by the\n",
        "      `get_ray_bundle()` method (shape: :math:`(width, height, 3)`).\n",
        "    depth_values (torch.Tensor): Sampled depth values along each ray\n",
        "      (shape: :math:`(num_samples)`).\n",
        "  \n",
        "  Returns:\n",
        "    rgb_map (torch.Tensor): Rendered RGB image (shape: :math:`(width, height, 3)`).\n",
        "    depth_map (torch.Tensor): Rendered depth image (shape: :math:`(width, height)`).\n",
        "    acc_map (torch.Tensor): # TODO: Double-check (I think this is the accumulated\n",
        "      transmittance map).\n",
        "  \"\"\"\n",
        "  # TESTED\n",
        "  sigma_a = torch.nn.functional.relu(radiance_field[..., 3])\n",
        "  rgb = torch.sigmoid(radiance_field[..., :3])\n",
        "  one_e_10 = torch.tensor([1e10], dtype=ray_origins.dtype, device=ray_origins.device)\n",
        "  dists = torch.cat((depth_values[..., 1:] - depth_values[..., :-1],\n",
        "                  one_e_10.expand(depth_values[..., :1].shape)), dim=-1)\n",
        "  alpha = 1. - torch.exp(-sigma_a * dists)\n",
        "  weights = alpha * cumprod_exclusive(1. - alpha + 1e-10)\n",
        "\n",
        "  rgb_map = (weights[..., None] * rgb).sum(dim=-2)\n",
        "  depth_map = (weights * depth_values).sum(dim=-1)\n",
        "  acc_map = weights.sum(-1)\n",
        "\n",
        "  return rgb_map, depth_map, acc_map"
      ]
    },
    {
      "cell_type": "markdown",
      "metadata": {
        "id": "i94CgahGHBEV"
      },
      "source": [
        "#### Positional encoding\n",
        "\n",
        "Another interesting tweak used in NeRF is \"positional encoding\", which postulates the use of a mapping to higher dimensional space (using a basis set of high-frequency functions). This greatly enhances the model's capability to capture high-frequency variations."
      ]
    },
    {
      "cell_type": "code",
      "execution_count": 6,
      "metadata": {
        "id": "rrbs7YoMHAbF"
      },
      "outputs": [],
      "source": [
        "def positional_encoding(\n",
        "    tensor, num_encoding_functions=6, include_input=True, log_sampling=True\n",
        ") -> torch.Tensor:\n",
        "  r\"\"\"Apply positional encoding to the input.\n",
        "\n",
        "  Args:\n",
        "    tensor (torch.Tensor): Input tensor to be positionally encoded.\n",
        "    num_encoding_functions (optional, int): Number of encoding functions used to\n",
        "        compute a positional encoding (default: 6).\n",
        "    include_input (optional, bool): Whether or not to include the input in the\n",
        "        computed positional encoding (default: True).\n",
        "    log_sampling (optional, bool): Sample logarithmically in frequency space, as\n",
        "        opposed to linearly (default: True).\n",
        "  \n",
        "  Returns:\n",
        "    (torch.Tensor): Positional encoding of the input tensor.\n",
        "  \"\"\"\n",
        "  # TESTED\n",
        "  # Trivially, the input tensor is added to the positional encoding.\n",
        "  encoding = [tensor] if include_input else []\n",
        "  # Now, encode the input using a set of high-frequency functions and append the\n",
        "  # resulting values to the encoding.\n",
        "  frequency_bands = None\n",
        "  if log_sampling:\n",
        "      frequency_bands = 2.0 ** torch.linspace(\n",
        "            0.0,\n",
        "            num_encoding_functions - 1,\n",
        "            num_encoding_functions,\n",
        "            dtype=tensor.dtype,\n",
        "            device=tensor.device,\n",
        "        )\n",
        "  else:\n",
        "      frequency_bands = torch.linspace(\n",
        "          2.0 ** 0.0,\n",
        "          2.0 ** (num_encoding_functions - 1),\n",
        "          num_encoding_functions,\n",
        "          dtype=tensor.dtype,\n",
        "          device=tensor.device,\n",
        "      )\n",
        "\n",
        "  for freq in frequency_bands:\n",
        "      for func in [torch.sin, torch.cos]:\n",
        "          encoding.append(func(tensor * freq))\n",
        "\n",
        "  # Special case, for no positional encoding\n",
        "  if len(encoding) == 1:\n",
        "      return encoding[0]\n",
        "  else:\n",
        "      return torch.cat(encoding, dim=-1)"
      ]
    },
    {
      "cell_type": "markdown",
      "metadata": {
        "id": "tgoNR03iIs7R"
      },
      "source": [
        "## TinyNeRF: Network architecture"
      ]
    },
    {
      "cell_type": "code",
      "execution_count": 7,
      "metadata": {
        "id": "UjFN6FNzIqxl"
      },
      "outputs": [],
      "source": [
        "class SineLayer(torch.nn.Module):\n",
        "    # See paper sec. 3.2, final paragraph, and supplement Sec. 1.5 for discussion of omega_0.\n",
        "\n",
        "    # If is_first=True, omega_0 is a frequency factor which simply multiplies the activations before the\n",
        "    # nonlinearity. Different signals may require different omega_0 in the first layer - this is a\n",
        "    # hyperparameter.\n",
        "\n",
        "    # If is_first=False, then the weights will be divided by omega_0 so as to keep the magnitude of\n",
        "    # activations constant, but boost gradients to the weight matrix (see supplement Sec. 1.5)\n",
        "\n",
        "    def __init__(self, in_features, out_features, bias=True,\n",
        "                 is_first=False, omega_0=30):\n",
        "        super().__init__()\n",
        "        self.omega_0 = omega_0\n",
        "        self.is_first = is_first\n",
        "\n",
        "        self.in_features = in_features\n",
        "        self.linear = torch.nn.Linear(in_features, out_features, bias=bias)\n",
        "\n",
        "        self.init_weights()\n",
        "\n",
        "    def init_weights(self):\n",
        "        with torch.no_grad():\n",
        "            if self.is_first:\n",
        "                self.linear.weight.uniform_(-1 / self.in_features,\n",
        "                                            1 / self.in_features)\n",
        "            else:\n",
        "                self.linear.weight.uniform_(-np.sqrt(6 / self.in_features) / self.omega_0,\n",
        "                                            np.sqrt(6 / self.in_features) / self.omega_0)\n",
        "\n",
        "    def forward(self, input):\n",
        "        return torch.sin(self.omega_0 * self.linear(input))\n",
        "\n",
        "    def forward_with_intermediate(self, input):\n",
        "        # For visualization of activation distributions\n",
        "        intermediate = self.omega_0 * self.linear(input)\n",
        "        return torch.sin(intermediate), intermediate\n",
        "\n",
        "\n",
        "class VeryTinyNerfModel(torch.nn.Module):\n",
        "    r\"\"\"Define a \"very tiny\" NeRF model comprising three fully connected layers.\n",
        "    \"\"\"\n",
        "\n",
        "    def __init__(self, filter_size=128, num_encoding_functions=6):\n",
        "        super(VeryTinyNerfModel, self).__init__()\n",
        "        # Input layer (default: 39 -> 128)\n",
        "        self.layer1 = torch.nn.Linear(\n",
        "            3 + 3 * 2 * num_encoding_functions, filter_size)\n",
        "\n",
        "        hidden_layers = 2\n",
        "        hidden_features = 128\n",
        "        hidden_omega_0 = 30\n",
        "        # self.sinelayers = []\n",
        "        # for i in range(hidden_layers):\n",
        "        #         self.sinelayers.append(SineLayer(hidden_features, hidden_features,\n",
        "        #                                   is_first=False, omega_0=hidden_omega_0))\n",
        "\n",
        "        self.sinelayer0 = SineLayer(3 + 3 * 2 * num_encoding_functions, hidden_features, is_first=True, omega_0=hidden_omega_0)\n",
        "        self.sinelayer1 = SineLayer(hidden_features, hidden_features, is_first=False, omega_0=hidden_omega_0)\n",
        "        self.sinelayer2 = SineLayer(hidden_features, hidden_features, is_first=False, omega_0=hidden_omega_0)\n",
        "        self.sinelayer3 = SineLayer(hidden_features, hidden_features, is_first=False, omega_0=hidden_omega_0)\n",
        "        self.sinelayer4 = SineLayer(hidden_features, hidden_features, is_first=False, omega_0=hidden_omega_0)\n",
        "        self.sinelayer5 = SineLayer(hidden_features, hidden_features, is_first=False, omega_0=hidden_omega_0)\n",
        "\n",
        "\n",
        "        # Layer 2 (default: 128 -> 128)\n",
        "        self.layer2 = torch.nn.Linear(filter_size, filter_size)\n",
        "        # Layer 3 (default: 128 -> 4)\n",
        "        self.layer3 = torch.nn.Linear(filter_size, 4)\n",
        "        # Short hand for torch.nn.functional.relu\n",
        "        self.relu = torch.nn.functional.relu\n",
        "\n",
        "    def forward(self, x):\n",
        "        x = self.relu(self.layer1(x))\n",
        "        x = self.relu(self.layer2(x))\n",
        "        x = self.layer3(x)\n",
        "\n",
        "    # def forward(self, x):\n",
        "    #     x = self.relu(self.layer1(x))\n",
        "    #     x = self.relu(self.sinelayer0(x))\n",
        "    #     # x = self.relu(self.sinelayer1(x))\n",
        "    # #     x = self.sinelayer2(x)\n",
        "    # #     # x = self.sinelayer3(x)\n",
        "    # #     # x = self.sinelayer3(x)\n",
        "    # #     # x = self.sinelayer4(x)\n",
        "    # #     # x = self.sinelayer5(x)\n",
        "    #     x = self.layer3(x)\n",
        "\n",
        "        return x\n"
      ]
    },
    {
      "cell_type": "markdown",
      "metadata": {
        "id": "94jKMMz7gb7Y"
      },
      "source": [
        "## NeRF: Network architecture"
      ]
    },
    {
      "cell_type": "code",
      "execution_count": 8,
      "metadata": {
        "id": "MvIDtf3TgaOA"
      },
      "outputs": [],
      "source": [
        "# class VeryTinyNerfModel(torch.nn.Module):\n",
        "#   r\"\"\"Define a \"very tiny\" NeRF model comprising three fully connected layers.\n",
        "#   \"\"\"\n",
        "#   def __init__(self, filter_size=128, num_encoding_functions=6):\n",
        "#     super(VeryTinyNerfModel, self).__init__()\n",
        "#     # Input layer (default: 39 -> 128)\n",
        "#     self.layer1 = torch.nn.Linear(3 + 3 * 2 * num_encoding_functions, filter_size)\n",
        "#     # Layer 2 (default: 128 -> 128)\n",
        "#     self.layer2 = torch.nn.Linear(filter_size, filter_size)\n",
        "#     # Layer 3 (default: 128 -> 4)\n",
        "#     self.layer3 = torch.nn.Linear(filter_size, 4)\n",
        "#     # Short hand for torch.nn.functional.relu\n",
        "#     self.relu = torch.nn.functional.relu\n",
        "  \n",
        "#   def forward(self, x):\n",
        "#     x = self.relu(self.layer1(x))\n",
        "#     x = self.relu(self.layer2(x))\n",
        "#     x = self.layer3(x)\n",
        "#     return x"
      ]
    },
    {
      "cell_type": "markdown",
      "metadata": {
        "id": "pUnoBIhyKgx6"
      },
      "source": [
        "## Dataloading utils"
      ]
    },
    {
      "cell_type": "code",
      "execution_count": 9,
      "metadata": {
        "id": "v9SbAqC6Ki9H"
      },
      "outputs": [],
      "source": [
        "def get_minibatches(inputs: torch.Tensor, chunksize: Optional[int] = 1024 * 8):\n",
        "  r\"\"\"Takes a huge tensor (ray \"bundle\") and splits it into a list of minibatches.\n",
        "  Each element of the list (except possibly the last) has dimension `0` of length\n",
        "  `chunksize`.\n",
        "  \"\"\"\n",
        "  return [inputs[i:i + chunksize] for i in range(0, inputs.shape[0], chunksize)]"
      ]
    },
    {
      "cell_type": "markdown",
      "metadata": {
        "id": "WO3afCcLKg0D"
      },
      "source": [
        "## Get data"
      ]
    },
    {
      "cell_type": "code",
      "execution_count": 10,
      "metadata": {
        "colab": {
          "base_uri": "https://localhost:8080/"
        },
        "id": "us0x_gGPI4tq",
        "outputId": "438c9215-fc8f-4812-ef0c-43b9e696c77e"
      },
      "outputs": [],
      "source": [
        "# Download sample data used in the official tiny_nerf example\n",
        "# import os\n",
        "# if not os.path.exists('tiny_nerf_data.npz'):\n",
        "#     !wget https://people.eecs.berkeley.edu/~bmild/nerf/tiny_nerf_data.npz\n",
        "\n"
      ]
    },
    {
      "cell_type": "markdown",
      "metadata": {
        "id": "Ierxw2dsL3pU"
      },
      "source": [
        "## Determine device to run on (GPU vs CPU)"
      ]
    },
    {
      "cell_type": "code",
      "execution_count": 11,
      "metadata": {
        "id": "uKNiPtnML8i9"
      },
      "outputs": [],
      "source": [
        "device = torch.device(\"cuda\" if torch.cuda.is_available() else \"cpu\")"
      ]
    },
    {
      "cell_type": "markdown",
      "metadata": {
        "id": "zB3NGalaLlN1"
      },
      "source": [
        "## Load up input images, poses, intrinsics, etc."
      ]
    },
    {
      "cell_type": "code",
      "execution_count": 26,
      "metadata": {
        "id": "1w2QkjCkLc9Z"
      },
      "outputs": [
        {
          "name": "stdout",
          "output_type": "stream",
          "text": [
            "A and E:  147.6 -60.41026485551578\n",
            "from R:  -60.41026485551577 -0.0 147.6\n",
            "A and E:  154.8 -64.64574501457378\n",
            "from R:  -64.64574501457378 -0.0 154.8\n",
            "A and E:  162.0 -64.02113032590307\n",
            "from R:  -64.02113032590307 -0.0 162.0\n",
            "A and E:  169.2 -58.690942118573794\n",
            "from R:  -58.6909421185738 -0.0 169.2\n",
            "A and E:  176.40000000000003 -49.973797743297055\n",
            "from R:  -49.973797743297055 -0.0 176.40000000000003\n",
            "A and E:  183.60000000000002 -40.02620225670287\n",
            "from R:  -40.02620225670287 -0.0 -176.4\n",
            "A and E:  190.8 -31.309057881426213\n",
            "from R:  -31.309057881426213 -0.0 -169.20000000000002\n",
            "A and E:  198.0 -25.97886967409693\n",
            "from R:  -25.97886967409693 -0.0 -162.00000000000003\n",
            "A and E:  205.2 -25.35425498542622\n",
            "from R:  -25.35425498542622 -0.0 -154.80000000000004\n",
            "A and E:  212.40000000000003 -29.58973514448425\n",
            "from R:  -29.58973514448425 -0.0 -147.59999999999997\n",
            "A and E:  219.60000000000002 -37.637508946306475\n",
            "from R:  -37.637508946306475 -0.0 -140.4\n",
            "A and E:  226.8 -47.506664671286096\n",
            "from R:  -47.506664671286096 -0.0 -133.20000000000002\n",
            "A and E:  234.0 -56.75570504584945\n",
            "from R:  -56.75570504584945 -0.0 -126.00000000000003\n",
            "A and E:  241.2 -63.09654104932038\n",
            "from R:  -63.096541049320386 -0.0 -118.80000000000001\n",
            "A and E:  248.40000000000003 -64.96053456856544\n",
            "from R:  -64.96053456856544 -0.0 -111.6\n",
            "A and E:  255.60000000000002 -61.88655851004029\n",
            "from R:  -61.88655851004028 -0.0 -104.39999999999998\n",
            "A and E:  262.8 -54.635073482034294\n",
            "from R:  -54.635073482034294 -0.0 -97.19999999999997\n",
            "A and E:  -90.0 -44.99999999999999\n",
            "from R:  -45.0 -0.0 -90.0\n",
            "A and E:  -82.80000000000001 -35.364926517965706\n",
            "from R:  -35.364926517965706 -0.0 -82.80000000000001\n",
            "A and E:  -75.6 -28.113441489959698\n",
            "from R:  -28.113441489959698 -0.0 -75.6\n",
            "A and E:  -68.4 -25.03946543143457\n",
            "from R:  -25.03946543143457 -0.0 -68.4\n",
            "A and E:  -61.19999999999999 -26.90345895067962\n",
            "from R:  -26.903458950679624 -0.0 -61.19999999999998\n",
            "A and E:  -54.0 -33.24429495415055\n",
            "from R:  -33.24429495415055 -0.0 -54.0\n",
            "A and E:  -46.80000000000001 -42.493335328713904\n",
            "from R:  -42.493335328713904 -0.0 -46.80000000000002\n",
            "A and E:  -39.599999999999994 -52.36249105369356\n",
            "from R:  -52.36249105369356 -0.0 -39.599999999999994\n",
            "A and E:  -32.400000000000006 -60.41026485551577\n",
            "from R:  -60.41026485551577 -0.0 -32.40000000000001\n",
            "A and E:  -25.200000000000003 -64.64574501457378\n",
            "from R:  -64.64574501457378 -0.0 -25.200000000000006\n",
            "A and E:  -18.0 -64.02113032590307\n",
            "from R:  -64.02113032590307 -0.0 -18.0\n",
            "A and E:  -10.799999999999997 -58.69094211857377\n",
            "from R:  -58.69094211857377 -0.0 -10.799999999999995\n",
            "A and E:  -3.5999999999999943 -49.973797743297084\n",
            "from R:  -49.973797743297084 -0.0 -3.5999999999999948\n",
            "A and E:  3.6000000000000085 -40.026202256702895\n",
            "from R:  -40.026202256702895 -0.0 3.600000000000008\n",
            "A and E:  10.799999999999997 -31.309057881426234\n",
            "from R:  -31.309057881426238 -0.0 10.799999999999995\n",
            "A and E:  18.0 -25.978869674096927\n",
            "from R:  -25.978869674096924 -0.0 18.0\n",
            "A and E:  25.200000000000003 -25.354254985426227\n",
            "from R:  -25.354254985426227 -0.0 25.200000000000006\n",
            "A and E:  32.400000000000006 -29.589735144484223\n",
            "from R:  -29.589735144484223 -0.0 32.40000000000001\n",
            "A and E:  39.599999999999994 -37.63750894630643\n",
            "from R:  -37.63750894630643 -0.0 39.599999999999994\n",
            "A and E:  46.80000000000001 -47.5066646712861\n",
            "from R:  -47.5066646712861 -0.0 46.80000000000002\n",
            "A and E:  54.0 -56.75570504584947\n",
            "from R:  -56.75570504584947 -0.0 54.0\n",
            "A and E:  61.20000000000002 -63.0965410493204\n",
            "from R:  -63.09654104932039 -0.0 61.200000000000024\n",
            "A and E:  68.4 -64.96053456856544\n",
            "from R:  -64.96053456856544 -0.0 68.4\n",
            "A and E:  75.6 -61.8865585100403\n",
            "from R:  -61.88655851004031 -0.0 75.6\n",
            "A and E:  82.80000000000001 -54.635073482034294\n",
            "from R:  -54.635073482034294 -0.0 82.80000000000001\n",
            "A and E:  90.0 -45.0\n",
            "from R:  -45.0 -0.0 90.0\n",
            "A and E:  97.20000000000002 -35.36492651796567\n",
            "from R:  -35.36492651796567 -0.0 97.20000000000002\n",
            "A and E:  104.4 -28.113441489959698\n",
            "from R:  -28.113441489959698 -0.0 104.4\n",
            "A and E:  111.6 -25.039465431434568\n",
            "from R:  -25.039465431434568 -0.0 111.6\n",
            "A and E:  118.80000000000001 -26.903458950679614\n",
            "from R:  -26.903458950679614 -0.0 118.80000000000001\n",
            "A and E:  126.0 -33.24429495415053\n",
            "from R:  -33.24429495415053 -0.0 126.0\n",
            "A and E:  133.20000000000002 -42.49333532871394\n",
            "from R:  -42.49333532871394 -0.0 133.20000000000002\n",
            "A and E:  140.4 -52.36249105369357\n",
            "from R:  -52.36249105369357 -0.0 140.4\n",
            "A and E:  147.6 -60.41026485551578\n",
            "from R:  -60.41026485551577 -0.0 147.6\n",
            "A and E:  154.8 -64.64574501457378\n",
            "from R:  -64.64574501457378 -0.0 154.8\n",
            "A and E:  162.0 -64.02113032590307\n",
            "from R:  -64.02113032590307 -0.0 162.0\n",
            "A and E:  169.2 -58.690942118573794\n",
            "from R:  -58.6909421185738 -0.0 169.2\n",
            "A and E:  176.40000000000003 -49.973797743297055\n",
            "from R:  -49.973797743297055 -0.0 176.40000000000003\n",
            "A and E:  183.60000000000002 -40.02620225670287\n",
            "from R:  -40.02620225670287 -0.0 -176.4\n",
            "A and E:  190.8 -31.309057881426213\n",
            "from R:  -31.309057881426213 -0.0 -169.20000000000002\n",
            "A and E:  198.0 -25.97886967409693\n",
            "from R:  -25.97886967409693 -0.0 -162.00000000000003\n",
            "A and E:  205.2 -25.35425498542622\n",
            "from R:  -25.35425498542622 -0.0 -154.80000000000004\n",
            "A and E:  212.40000000000003 -29.58973514448425\n",
            "from R:  -29.58973514448425 -0.0 -147.59999999999997\n",
            "A and E:  219.60000000000002 -37.637508946306475\n",
            "from R:  -37.637508946306475 -0.0 -140.4\n",
            "A and E:  226.8 -47.506664671286096\n",
            "from R:  -47.506664671286096 -0.0 -133.20000000000002\n",
            "A and E:  234.0 -56.75570504584945\n",
            "from R:  -56.75570504584945 -0.0 -126.00000000000003\n",
            "A and E:  241.2 -63.09654104932038\n",
            "from R:  -63.096541049320386 -0.0 -118.80000000000001\n",
            "A and E:  248.40000000000003 -64.96053456856544\n",
            "from R:  -64.96053456856544 -0.0 -111.6\n",
            "A and E:  255.60000000000002 -61.88655851004029\n",
            "from R:  -61.88655851004028 -0.0 -104.39999999999998\n",
            "A and E:  262.8 -54.635073482034294\n",
            "from R:  -54.635073482034294 -0.0 -97.19999999999997\n",
            "A and E:  -90.0 -44.99999999999999\n",
            "from R:  -45.0 -0.0 -90.0\n",
            "A and E:  -82.80000000000001 -35.364926517965706\n",
            "from R:  -35.364926517965706 -0.0 -82.80000000000001\n",
            "A and E:  -75.6 -28.113441489959698\n",
            "from R:  -28.113441489959698 -0.0 -75.6\n",
            "A and E:  -68.4 -25.03946543143457\n",
            "from R:  -25.03946543143457 -0.0 -68.4\n",
            "tensor([[-0.6845,  0.4924,  0.5375, -1.8497],\n",
            "        [-0.7290, -0.4624, -0.5048, -1.9697],\n",
            "        [ 0.0000, -0.7374,  0.6755, -2.9494],\n",
            "        [ 0.0000,  0.0000,  0.0000,  1.0000]], device='cuda:0')\n",
            "torch.Size([50, 100, 100, 3])\n"
          ]
        }
      ],
      "source": [
        "# Load input images, poses, and intrinsics\n",
        "# data = np.load(\"tiny_nerf_data.npz\")\n",
        "from math import cos, sin, radians, degrees\n",
        "import pickle\n",
        "import cv2 \n",
        "\n",
        "with open('all_data_876.pkl','rb') as f:  # Python 3: open(..., 'rb')\n",
        "    data = pickle.load(f)\n",
        "\n",
        "def Rx(theta):\n",
        "        return np.matrix([[ 1, 0           , 0           ],\n",
        "                        [ 0, cos(theta),-sin(theta)],\n",
        "                        [ 0, sin(theta), cos(theta)]])\n",
        "        \n",
        "def Ry(theta):\n",
        "    return np.matrix([[ cos(theta), 0, sin(theta)],\n",
        "                    [ 0           , 1, 0           ],\n",
        "                    [-sin(theta), 0, cos(theta)]])\n",
        "\n",
        "def Rz(theta):\n",
        "    return np.matrix([[ cos(theta), -sin(theta), 0 ],\n",
        "                    [ sin(theta), cos(theta) , 0 ],\n",
        "                    [ 0           , 0            , 1 ]])\n",
        "\n",
        "def rot2eul(R):\n",
        "    beta = -np.arcsin(R[2,0])\n",
        "    alpha = np.arctan2(R[2,1]/np.cos(beta),R[2,2]/np.cos(beta))\n",
        "    gamma = np.arctan2(R[1,0]/np.cos(beta),R[0,0]/np.cos(beta))\n",
        "    return np.array((alpha, beta, gamma))\n",
        "\n",
        "images = []\n",
        "tform_cam2world = []\n",
        "count = 0\n",
        "for item in data:\n",
        "    image = item['image']\n",
        "    image = cv2.resize(image,(100,100))\n",
        "    images.append(image)\n",
        "    lookat = item['lookat']\n",
        "    azimuth = radians(item['azimuth'])\n",
        "    elevation = radians(item['elevation'])\n",
        "    # print(\"LOOKAT\", lookat)\n",
        "\n",
        "    \n",
        "    R=Rz(azimuth)*Rx(elevation)*Ry(0)\n",
        "    print(\"A and E: \",item['azimuth'], item['elevation'])\n",
        "    ang = rot2eul(R)\n",
        "    print(\"from R: \",degrees(ang[0]),degrees(ang[1]),degrees(ang[2]) )\n",
        "\n",
        "    x=4*cos(elevation)*cos(azimuth)\n",
        "    y=4*cos(elevation)*sin(azimuth)\n",
        "    z=4*sin(elevation)\n",
        "\n",
        "    fx,fy,cx,cy = 8000, 8000, 4000, 4000\n",
        "    # intrinsic = np.array([[fx, 0, cx, 0],\n",
        "    #                         [0, fy, cy, 0],\n",
        "    #                         [0, 0, 1, 0],\n",
        "    #                         [0, 0, 0, 1]])\n",
        "\n",
        "    transformation = np.array([[0,0,0,x],\n",
        "                                [0,0,0,y],\n",
        "                                [0,0,0,z],\n",
        "                                [0,0,0,1]])\n",
        "    transformation[:3,:3] = R\n",
        "    # print(\"R:\",np.linalg.det(R))\n",
        "    \n",
        "    tform_cam2world.append(transformation)\n",
        "    count +=1\n",
        "    if count>70:\n",
        "        break\n",
        "\n",
        "# Images\n",
        "images = np.array(images)#.astype(np.float16)\n",
        "# images = data.get(\"image\")\n",
        "\n",
        "# Camera extrinsics (poses)\n",
        "# tform_cam2world = data[\"poses\"]\n",
        "tform_cam2world = np.array(tform_cam2world).astype(np.float32)\n",
        "tform_cam2world = torch.tensor(tform_cam2world).to(device)\n",
        "# Focal length (intrinsics)\n",
        "# focal_length = data[\"focal\"]\n",
        "# focal_length = torch.from_numpy(focal_length).to(device)\n",
        "# focal_length = torch.tensor(8206).to(device)\n",
        "focal_length = torch.tensor(40).to(device)\n",
        "\n",
        "\n",
        "# Height and width of each image\n",
        "height, width = images.shape[1:3]\n",
        "\n",
        "# Near and far clipping thresholds for depth values.\n",
        "near_thresh = 2.\n",
        "far_thresh = 6.\n",
        "\n",
        "# Hold one image out (for test).\n",
        "testimg, testpose = images[11], tform_cam2world[11]\n",
        "print(testpose)\n",
        "testimg = torch.from_numpy(testimg).to(device)\n",
        "\n",
        "# Map images to device\n",
        "images = torch.from_numpy(images[:50, ..., :3]).to(torch.float32).to(device)\n",
        "print(images.shape)\n",
        "# print(images)"
      ]
    },
    {
      "cell_type": "code",
      "execution_count": 22,
      "metadata": {},
      "outputs": [],
      "source": [
        "def rot2eul(R):\n",
        "    beta = -np.arcsin(R[2,0])\n",
        "    alpha = np.arctan2(R[2,1]/np.cos(beta),R[2,2]/np.cos(beta))\n",
        "    gamma = np.arctan2(R[1,0]/np.cos(beta),R[0,0]/np.cos(beta))\n",
        "    return np.array((alpha, beta, gamma))\n",
        "# testpose = testpose.to('cpu')\n",
        "# ang = rot2eul(testpose)\n",
        "# print(degrees(ang[0]),degrees(ang[1]),degrees(ang[2]) )"
      ]
    },
    {
      "cell_type": "markdown",
      "metadata": {
        "id": "mVsKUODnM9KK"
      },
      "source": [
        "#### Display the image used for testing"
      ]
    },
    {
      "cell_type": "code",
      "execution_count": 23,
      "metadata": {
        "colab": {
          "base_uri": "https://localhost:8080/",
          "height": 268
        },
        "id": "_04FamFHM7l8",
        "outputId": "c7588314-61ef-4ee6-d721-397939ce161d"
      },
      "outputs": [
        {
          "data": {
            "image/png": "[encoded data removed]",
            "text/plain": [
              "<Figure size 432x288 with 1 Axes>"
            ]
          },
          "metadata": {
            "needs_background": "light"
          },
          "output_type": "display_data"
        }
      ],
      "source": [
        "plt.imshow(testimg.detach().cpu().numpy())\n",
        "plt.show()"
      ]
    },
    {
      "cell_type": "markdown",
      "metadata": {
        "id": "XFUaajNpNNgJ"
      },
      "source": [
        "## Train TinyNeRF!\n",
        "\n",
        "(The cool part!)"
      ]
    },
    {
      "cell_type": "code",
      "execution_count": 24,
      "metadata": {
        "id": "nY2Dt8lgWhKO"
      },
      "outputs": [],
      "source": [
        "# One iteration of TinyNeRF (forward pass).\n",
        "def run_one_iter_of_tinynerf(height, width, focal_length, tform_cam2world,\n",
        "                             near_thresh, far_thresh, depth_samples_per_ray,\n",
        "                             encoding_function, get_minibatches_function):\n",
        "  \n",
        "  # Get the \"bundle\" of rays through all image pixels.\n",
        "  ray_origins, ray_directions = get_ray_bundle(height, width, focal_length,\n",
        "                                               tform_cam2world)\n",
        "  \n",
        "  # Sample query points along each ray\n",
        "  query_points, depth_values = compute_query_points_from_rays(\n",
        "      ray_origins, ray_directions, near_thresh, far_thresh, depth_samples_per_ray\n",
        "  )\n",
        "\n",
        "  # \"Flatten\" the query points.\n",
        "  flattened_query_points = query_points.reshape((-1, 3))\n",
        "\n",
        "  # Encode the query points (default: positional encoding).\n",
        "  encoded_points = encoding_function(flattened_query_points)\n",
        "\n",
        "  # Split the encoded points into \"chunks\", run the model on all chunks, and\n",
        "  # concatenate the results (to avoid out-of-memory issues).\n",
        "  batches = get_minibatches_function(encoded_points, chunksize=chunksize)\n",
        "  predictions = []\n",
        "  for batch in batches:\n",
        "    predictions.append(model(batch))\n",
        "  radiance_field_flattened = torch.cat(predictions, dim=0)\n",
        "\n",
        "  # \"Unflatten\" to obtain the radiance field.\n",
        "  unflattened_shape = list(query_points.shape[:-1]) + [4]\n",
        "  radiance_field = torch.reshape(radiance_field_flattened, unflattened_shape)\n",
        "\n",
        "  # Perform differentiable volume rendering to re-synthesize the RGB image.\n",
        "  rgb_predicted, _, _ = render_volume_density(radiance_field, ray_origins, depth_values)\n",
        "\n",
        "  return rgb_predicted"
      ]
    },
    {
      "cell_type": "code",
      "execution_count": 25,
      "metadata": {
        "colab": {
          "base_uri": "https://localhost:8080/",
          "height": 1000
        },
        "id": "JovhcSy1NIhr",
        "outputId": "604060be-0fdc-4921-842e-bd93aa212a95"
      },
      "outputs": [
        {
          "name": "stdout",
          "output_type": "stream",
          "text": [
            "Loss: 1509.661865234375\n"
          ]
        },
        {
          "data": {
            "image/png": "[encoded data removed]",
            "text/plain": [
              "<Figure size 720x288 with 2 Axes>"
            ]
          },
          "metadata": {
            "needs_background": "light"
          },
          "output_type": "display_data"
        },
        {
          "name": "stderr",
          "output_type": "stream",
          "text": [
            "Clipping input data to the valid range for imshow with RGB data ([0..1] for floats or [0..255] for integers).\n"
          ]
        },
        {
          "name": "stdout",
          "output_type": "stream",
          "text": [
            "Loss: 1889.7998046875\n"
          ]
        },
        {
          "data": {
            "image/png": "[encoded data removed]",
            "text/plain": [
              "<Figure size 720x288 with 2 Axes>"
            ]
          },
          "metadata": {
            "needs_background": "light"
          },
          "output_type": "display_data"
        },
        {
          "name": "stderr",
          "output_type": "stream",
          "text": [
            "Clipping input data to the valid range for imshow with RGB data ([0..1] for floats or [0..255] for integers).\n"
          ]
        },
        {
          "name": "stdout",
          "output_type": "stream",
          "text": [
            "Loss: 1151.4027099609375\n"
          ]
        },
        {
          "data": {
            "image/png": "[encoded data removed]",
            "text/plain": [
              "<Figure size 720x288 with 2 Axes>"
            ]
          },
          "metadata": {
            "needs_background": "light"
          },
          "output_type": "display_data"
        },
        {
          "name": "stderr",
          "output_type": "stream",
          "text": [
            "Clipping input data to the valid range for imshow with RGB data ([0..1] for floats or [0..255] for integers).\n"
          ]
        },
        {
          "name": "stdout",
          "output_type": "stream",
          "text": [
            "Loss: 1715.857666015625\n"
          ]
        },
        {
          "data": {
            "image/png": "[encoded data removed]",
            "text/plain": [
              "<Figure size 720x288 with 2 Axes>"
            ]
          },
          "metadata": {
            "needs_background": "light"
          },
          "output_type": "display_data"
        },
        {
          "name": "stderr",
          "output_type": "stream",
          "text": [
            "Clipping input data to the valid range for imshow with RGB data ([0..1] for floats or [0..255] for integers).\n"
          ]
        },
        {
          "name": "stdout",
          "output_type": "stream",
          "text": [
            "Loss: 1578.5921630859375\n"
          ]
        },
        {
          "data": {
            "image/png": "[encoded data removed]",
            "text/plain": [
              "<Figure size 720x288 with 2 Axes>"
            ]
          },
          "metadata": {
            "needs_background": "light"
          },
          "output_type": "display_data"
        },
        {
          "ename": "KeyboardInterrupt",
          "evalue": "",
          "output_type": "error",
          "traceback": [
            "\u001b[0;31m---------------------------------------------------------------------------\u001b[0m",
            "\u001b[0;31mKeyboardInterrupt\u001b[0m                         Traceback (most recent call last)",
            "\u001b[1;32m/home/aswath/umd/experiments/nerf_visuomotor_control/tiny_nerf_pytorch.ipynb Cell 31'\u001b[0m in \u001b[0;36m<module>\u001b[0;34m\u001b[0m\n\u001b[1;32m     <a href='vscode-notebook-cell:/home/aswath/umd/experiments/nerf_visuomotor_control/tiny_nerf_pytorch.ipynb#ch0000030?line=53'>54</a>\u001b[0m target_tform_cam2world \u001b[39m=\u001b[39m tform_cam2world[target_img_idx]\u001b[39m.\u001b[39mto(device)\n\u001b[1;32m     <a href='vscode-notebook-cell:/home/aswath/umd/experiments/nerf_visuomotor_control/tiny_nerf_pytorch.ipynb#ch0000030?line=55'>56</a>\u001b[0m \u001b[39m# Run one iteration of TinyNeRF and get the rendered RGB image.\u001b[39;00m\n\u001b[0;32m---> <a href='vscode-notebook-cell:/home/aswath/umd/experiments/nerf_visuomotor_control/tiny_nerf_pytorch.ipynb#ch0000030?line=56'>57</a>\u001b[0m rgb_predicted \u001b[39m=\u001b[39m run_one_iter_of_tinynerf(height, width, focal_length,\n\u001b[1;32m     <a href='vscode-notebook-cell:/home/aswath/umd/experiments/nerf_visuomotor_control/tiny_nerf_pytorch.ipynb#ch0000030?line=57'>58</a>\u001b[0m                                          target_tform_cam2world, near_thresh,\n\u001b[1;32m     <a href='vscode-notebook-cell:/home/aswath/umd/experiments/nerf_visuomotor_control/tiny_nerf_pytorch.ipynb#ch0000030?line=58'>59</a>\u001b[0m                                          far_thresh, depth_samples_per_ray,\n\u001b[1;32m     <a href='vscode-notebook-cell:/home/aswath/umd/experiments/nerf_visuomotor_control/tiny_nerf_pytorch.ipynb#ch0000030?line=59'>60</a>\u001b[0m                                          encode, get_minibatches)\n\u001b[1;32m     <a href='vscode-notebook-cell:/home/aswath/umd/experiments/nerf_visuomotor_control/tiny_nerf_pytorch.ipynb#ch0000030?line=61'>62</a>\u001b[0m \u001b[39m# Compute mean-squared error between the predicted and target images. Backprop!\u001b[39;00m\n\u001b[1;32m     <a href='vscode-notebook-cell:/home/aswath/umd/experiments/nerf_visuomotor_control/tiny_nerf_pytorch.ipynb#ch0000030?line=62'>63</a>\u001b[0m loss \u001b[39m=\u001b[39m torch\u001b[39m.\u001b[39mnn\u001b[39m.\u001b[39mfunctional\u001b[39m.\u001b[39mmse_loss(rgb_predicted, target_img)\n",
            "\u001b[1;32m/home/aswath/umd/experiments/nerf_visuomotor_control/tiny_nerf_pytorch.ipynb Cell 30'\u001b[0m in \u001b[0;36mrun_one_iter_of_tinynerf\u001b[0;34m(height, width, focal_length, tform_cam2world, near_thresh, far_thresh, depth_samples_per_ray, encoding_function, get_minibatches_function)\u001b[0m\n\u001b[1;32m      <a href='vscode-notebook-cell:/home/aswath/umd/experiments/nerf_visuomotor_control/tiny_nerf_pytorch.ipynb#ch0000029?line=1'>2</a>\u001b[0m \u001b[39mdef\u001b[39;00m \u001b[39mrun_one_iter_of_tinynerf\u001b[39m(height, width, focal_length, tform_cam2world,\n\u001b[1;32m      <a href='vscode-notebook-cell:/home/aswath/umd/experiments/nerf_visuomotor_control/tiny_nerf_pytorch.ipynb#ch0000029?line=2'>3</a>\u001b[0m                              near_thresh, far_thresh, depth_samples_per_ray,\n\u001b[1;32m      <a href='vscode-notebook-cell:/home/aswath/umd/experiments/nerf_visuomotor_control/tiny_nerf_pytorch.ipynb#ch0000029?line=3'>4</a>\u001b[0m                              encoding_function, get_minibatches_function):\n\u001b[1;32m      <a href='vscode-notebook-cell:/home/aswath/umd/experiments/nerf_visuomotor_control/tiny_nerf_pytorch.ipynb#ch0000029?line=4'>5</a>\u001b[0m   \n\u001b[1;32m      <a href='vscode-notebook-cell:/home/aswath/umd/experiments/nerf_visuomotor_control/tiny_nerf_pytorch.ipynb#ch0000029?line=5'>6</a>\u001b[0m   \u001b[39m# Get the \"bundle\" of rays through all image pixels.\u001b[39;00m\n\u001b[0;32m----> <a href='vscode-notebook-cell:/home/aswath/umd/experiments/nerf_visuomotor_control/tiny_nerf_pytorch.ipynb#ch0000029?line=6'>7</a>\u001b[0m   ray_origins, ray_directions \u001b[39m=\u001b[39m get_ray_bundle(height, width, focal_length,\n\u001b[1;32m      <a href='vscode-notebook-cell:/home/aswath/umd/experiments/nerf_visuomotor_control/tiny_nerf_pytorch.ipynb#ch0000029?line=7'>8</a>\u001b[0m                                                tform_cam2world)\n\u001b[1;32m     <a href='vscode-notebook-cell:/home/aswath/umd/experiments/nerf_visuomotor_control/tiny_nerf_pytorch.ipynb#ch0000029?line=9'>10</a>\u001b[0m   \u001b[39m# Sample query points along each ray\u001b[39;00m\n\u001b[1;32m     <a href='vscode-notebook-cell:/home/aswath/umd/experiments/nerf_visuomotor_control/tiny_nerf_pytorch.ipynb#ch0000029?line=10'>11</a>\u001b[0m   query_points, depth_values \u001b[39m=\u001b[39m compute_query_points_from_rays(\n\u001b[1;32m     <a href='vscode-notebook-cell:/home/aswath/umd/experiments/nerf_visuomotor_control/tiny_nerf_pytorch.ipynb#ch0000029?line=11'>12</a>\u001b[0m       ray_origins, ray_directions, near_thresh, far_thresh, depth_samples_per_ray\n\u001b[1;32m     <a href='vscode-notebook-cell:/home/aswath/umd/experiments/nerf_visuomotor_control/tiny_nerf_pytorch.ipynb#ch0000029?line=12'>13</a>\u001b[0m   )\n",
            "\u001b[1;32m/home/aswath/umd/experiments/nerf_visuomotor_control/tiny_nerf_pytorch.ipynb Cell 7'\u001b[0m in \u001b[0;36mget_ray_bundle\u001b[0;34m(height, width, focal_length, tform_cam2world)\u001b[0m\n\u001b[1;32m      <a href='vscode-notebook-cell:/home/aswath/umd/experiments/nerf_visuomotor_control/tiny_nerf_pytorch.ipynb#ch0000006?line=1'>2</a>\u001b[0m \u001b[39mr\u001b[39m\u001b[39m\"\"\"Compute the bundle of rays passing through all pixels of an image (one ray per pixel).\u001b[39;00m\n\u001b[1;32m      <a href='vscode-notebook-cell:/home/aswath/umd/experiments/nerf_visuomotor_control/tiny_nerf_pytorch.ipynb#ch0000006?line=2'>3</a>\u001b[0m \n\u001b[1;32m      <a href='vscode-notebook-cell:/home/aswath/umd/experiments/nerf_visuomotor_control/tiny_nerf_pytorch.ipynb#ch0000006?line=3'>4</a>\u001b[0m \u001b[39mArgs:\u001b[39;00m\n\u001b[0;32m   (...)\u001b[0m\n\u001b[1;32m     <a href='vscode-notebook-cell:/home/aswath/umd/experiments/nerf_visuomotor_control/tiny_nerf_pytorch.ipynb#ch0000006?line=18'>19</a>\u001b[0m \u001b[39m    (TODO: double check if explanation of row and col indices convention is right).\u001b[39;00m\n\u001b[1;32m     <a href='vscode-notebook-cell:/home/aswath/umd/experiments/nerf_visuomotor_control/tiny_nerf_pytorch.ipynb#ch0000006?line=19'>20</a>\u001b[0m \u001b[39m\"\"\"\u001b[39;00m\n\u001b[1;32m     <a href='vscode-notebook-cell:/home/aswath/umd/experiments/nerf_visuomotor_control/tiny_nerf_pytorch.ipynb#ch0000006?line=20'>21</a>\u001b[0m \u001b[39m# TESTED\u001b[39;00m\n\u001b[1;32m     <a href='vscode-notebook-cell:/home/aswath/umd/experiments/nerf_visuomotor_control/tiny_nerf_pytorch.ipynb#ch0000006?line=21'>22</a>\u001b[0m ii, jj \u001b[39m=\u001b[39m meshgrid_xy(\n\u001b[0;32m---> <a href='vscode-notebook-cell:/home/aswath/umd/experiments/nerf_visuomotor_control/tiny_nerf_pytorch.ipynb#ch0000006?line=22'>23</a>\u001b[0m     torch\u001b[39m.\u001b[39;49marange(width)\u001b[39m.\u001b[39;49mto(tform_cam2world),\n\u001b[1;32m     <a href='vscode-notebook-cell:/home/aswath/umd/experiments/nerf_visuomotor_control/tiny_nerf_pytorch.ipynb#ch0000006?line=23'>24</a>\u001b[0m     torch\u001b[39m.\u001b[39marange(height)\u001b[39m.\u001b[39mto(tform_cam2world)\n\u001b[1;32m     <a href='vscode-notebook-cell:/home/aswath/umd/experiments/nerf_visuomotor_control/tiny_nerf_pytorch.ipynb#ch0000006?line=24'>25</a>\u001b[0m )\n\u001b[1;32m     <a href='vscode-notebook-cell:/home/aswath/umd/experiments/nerf_visuomotor_control/tiny_nerf_pytorch.ipynb#ch0000006?line=25'>26</a>\u001b[0m directions \u001b[39m=\u001b[39m torch\u001b[39m.\u001b[39mstack([(ii \u001b[39m-\u001b[39m width \u001b[39m*\u001b[39m \u001b[39m.5\u001b[39m) \u001b[39m/\u001b[39m focal_length,\n\u001b[1;32m     <a href='vscode-notebook-cell:/home/aswath/umd/experiments/nerf_visuomotor_control/tiny_nerf_pytorch.ipynb#ch0000006?line=26'>27</a>\u001b[0m                           \u001b[39m-\u001b[39m(jj \u001b[39m-\u001b[39m height \u001b[39m*\u001b[39m \u001b[39m.5\u001b[39m) \u001b[39m/\u001b[39m focal_length,\n\u001b[1;32m     <a href='vscode-notebook-cell:/home/aswath/umd/experiments/nerf_visuomotor_control/tiny_nerf_pytorch.ipynb#ch0000006?line=27'>28</a>\u001b[0m                           \u001b[39m-\u001b[39mtorch\u001b[39m.\u001b[39mones_like(ii)\n\u001b[1;32m     <a href='vscode-notebook-cell:/home/aswath/umd/experiments/nerf_visuomotor_control/tiny_nerf_pytorch.ipynb#ch0000006?line=28'>29</a>\u001b[0m                          ], dim\u001b[39m=\u001b[39m\u001b[39m-\u001b[39m\u001b[39m1\u001b[39m)\n\u001b[1;32m     <a href='vscode-notebook-cell:/home/aswath/umd/experiments/nerf_visuomotor_control/tiny_nerf_pytorch.ipynb#ch0000006?line=29'>30</a>\u001b[0m ray_directions \u001b[39m=\u001b[39m torch\u001b[39m.\u001b[39msum(directions[\u001b[39m.\u001b[39m\u001b[39m.\u001b[39m\u001b[39m.\u001b[39m, \u001b[39mNone\u001b[39;00m, :] \u001b[39m*\u001b[39m tform_cam2world[:\u001b[39m3\u001b[39m, :\u001b[39m3\u001b[39m], dim\u001b[39m=\u001b[39m\u001b[39m-\u001b[39m\u001b[39m1\u001b[39m)\n",
            "\u001b[0;31mKeyboardInterrupt\u001b[0m: "
          ]
        }
      ],
      "source": [
        "\"\"\"\n",
        "Parameters for TinyNeRF training\n",
        "\"\"\"\n",
        "\n",
        "# Number of functions used in the positional encoding (Be sure to update the \n",
        "# model if this number changes).\n",
        "num_encoding_functions = 6\n",
        "# Specify encoding function.\n",
        "encode = lambda x: positional_encoding(x, num_encoding_functions=num_encoding_functions)\n",
        "# Number of depth samples along each ray.\n",
        "depth_samples_per_ray = 32\n",
        "\n",
        "# Chunksize (Note: this isn't batchsize in the conventional sense. This only\n",
        "# specifies the number of rays to be queried in one go. Backprop still happens\n",
        "# only after all rays from the current \"bundle\" are queried and rendered).\n",
        "chunksize = 16384  # Use chunksize of about 4096 to fit in ~1.4 GB of GPU memory.\n",
        "\n",
        "# Optimizer parameters\n",
        "lr = 5e-3\n",
        "num_iters = 2000\n",
        "\n",
        "# Misc parameters\n",
        "display_every = 50  # Number of iters after which stats are displayed\n",
        "\n",
        "\"\"\"\n",
        "Model\n",
        "\"\"\"\n",
        "model = VeryTinyNerfModel(num_encoding_functions=num_encoding_functions)\n",
        "model.to(device)\n",
        "\n",
        "\"\"\"\n",
        "Optimizer\n",
        "\"\"\"\n",
        "optimizer = torch.optim.Adam(model.parameters(), lr=lr)\n",
        "\n",
        "\"\"\"\n",
        "Train-Eval-Repeat!\n",
        "\"\"\"\n",
        "\n",
        "# Seed RNG, for repeatability\n",
        "seed = 9458\n",
        "torch.manual_seed(seed)\n",
        "np.random.seed(seed)\n",
        "\n",
        "# Lists to log metrics etc.\n",
        "psnrs = []\n",
        "iternums = []\n",
        "\n",
        "for i in range(num_iters):\n",
        "\n",
        "  # Randomly pick an image as the target.\n",
        "  target_img_idx = np.random.randint(images.shape[0])\n",
        "  target_img = images[target_img_idx].to(device)\n",
        "  target_tform_cam2world = tform_cam2world[target_img_idx].to(device)\n",
        "\n",
        "  # Run one iteration of TinyNeRF and get the rendered RGB image.\n",
        "  rgb_predicted = run_one_iter_of_tinynerf(height, width, focal_length,\n",
        "                                           target_tform_cam2world, near_thresh,\n",
        "                                           far_thresh, depth_samples_per_ray,\n",
        "                                           encode, get_minibatches)\n",
        "\n",
        "  # Compute mean-squared error between the predicted and target images. Backprop!\n",
        "  loss = torch.nn.functional.mse_loss(rgb_predicted, target_img)\n",
        "  loss.backward()\n",
        "  optimizer.step()\n",
        "  optimizer.zero_grad()\n",
        "\n",
        "  # Display images/plots/stats\n",
        "  if i % display_every == 0:\n",
        "    # Render the held-out view\n",
        "    rgb_predicted = run_one_iter_of_tinynerf(height, width, focal_length,\n",
        "                                             testpose, near_thresh,\n",
        "                                             far_thresh, depth_samples_per_ray,\n",
        "                                             encode, get_minibatches)\n",
        "    loss = torch.nn.functional.mse_loss(rgb_predicted, target_img)\n",
        "    print(\"Loss:\", loss.item())\n",
        "    psnr = -10. * torch.log10(loss)\n",
        "    \n",
        "    psnrs.append(psnr.item())\n",
        "    iternums.append(i)\n",
        "\n",
        "    plt.figure(figsize=(10, 4))\n",
        "    plt.subplot(121)\n",
        "    plt.imshow(rgb_predicted.detach().cpu().numpy())#.astype(np.uint8)\n",
        "    plt.title(f\"Iteration {i}\")\n",
        "    plt.subplot(122)\n",
        "    plt.plot(iternums, psnrs)\n",
        "    plt.title(\"PSNR\")\n",
        "    plt.show()\n",
        "\n",
        "print('Done!')"
      ]
    },
    {
      "cell_type": "code",
      "execution_count": null,
      "metadata": {
        "id": "wtXqR_0nOyGV"
      },
      "outputs": [],
      "source": [
        "%matplotlib inline\n",
        "from ipywidgets import interactive, widgets\n",
        "\n",
        "def posenc(x):\n",
        "  rets = [x]\n",
        "  for i in range(L_embed):\n",
        "    for fn in [torch.sin, torch.cos]:\n",
        "      rets.append(fn(2.**i * x))\n",
        "  return torch.concat(rets, -1)\n",
        "\n",
        "L_embed = 6\n",
        "embed_fn = posenc\n",
        "\n",
        "\n",
        "N_samples = 64\n",
        "\n",
        "\n",
        "trans_t = lambda t : torch.as_tensor([\n",
        "    [1,0,0,0],\n",
        "    [0,1,0,0],\n",
        "    [0,0,1,t],\n",
        "    [0,0,0,1],\n",
        "], dtype=torch.float32)\n",
        "\n",
        "rot_phi = lambda phi : torch.as_tensor([\n",
        "    [1,0,0,0],\n",
        "    [0,torch.cos(torch.as_tensor(phi)),-torch.sin(torch.as_tensor(phi)),0],\n",
        "    [0,torch.sin(torch.as_tensor(phi)), torch.cos(torch.as_tensor(phi)),0],\n",
        "    [0,0,0,1],\n",
        "], dtype=torch.float32)\n",
        "\n",
        "rot_theta = lambda th : torch.as_tensor([\n",
        "    [torch.cos(torch.as_tensor(th)),0,-torch.sin(torch.as_tensor(th)),0],\n",
        "    [0,1,0,0],\n",
        "    [torch.sin(torch.as_tensor(th)),0, torch.cos(torch.as_tensor(th)),0],\n",
        "    [0,0,0,1],\n",
        "], dtype=torch.float32)\n",
        "\n",
        "\n",
        "def pose_spherical(theta, phi, radius):\n",
        "    c2w = trans_t(radius)\n",
        "    c2w = rot_phi(phi/180.*np.pi) @ c2w\n",
        "    c2w = rot_theta(theta/180.*np.pi) @ c2w\n",
        "    c2w = torch.tensor([[-1,0,0,0],[0,0,1,0],[0,1,0,0],[0,0,0,1]], dtype=torch.float32) @ c2w\n",
        "    return c2w\n",
        "\n",
        "\n",
        "def f(**kwargs):\n",
        "    c2w = pose_spherical(**kwargs)\n",
        "    c2w  = c2w.to(device)\n",
        "    rgb = run_one_iter_of_tinynerf(height, width, focal_length,c2w, near_thresh,\\\n",
        "                                    far_thresh, depth_samples_per_ray, encode, get_minibatches)\n",
        "    # img = np.clip(rgb,0,1)\n",
        "    \n",
        "    plt.figure(2, figsize=(20,6))\n",
        "    image = rgb.detach().cpu().numpy()\n",
        "    plt.imshow(image)\n",
        "    plt.show()\n",
        "    pass\n",
        "    \n",
        "\n",
        "sldr = lambda v, mi, ma: widgets.FloatSlider(\n",
        "    value=v,\n",
        "    min=mi,\n",
        "    max=ma,\n",
        "    step=.01,\n",
        ")\n",
        "\n",
        "names = [\n",
        "    ['theta', [100., 0., 360]],\n",
        "    ['phi', [-30., -90, 0]],\n",
        "    ['radius', [4., 3., 5.]],\n",
        "]\n",
        "\n",
        "interactive_plot = interactive(f, **{s[0] : sldr(*s[1]) for s in names})\n",
        "output = interactive_plot.children[-1]\n",
        "output.layout.height = '350px'\n",
        "interactive_plot"
      ]
    }
  ],
  "metadata": {
    "accelerator": "GPU",
    "colab": {
      "name": "tiny_nerf_pytorch",
      "provenance": []
    },
    "interpreter": {
      "hash": "31f2aee4e71d21fbe5cf8b01ff0e069b9275f58929596ceb00d14d90e3e16cd6"
    },
    "kernelspec": {
      "display_name": "Python 3.8.10 64-bit",
      "language": "python",
      "name": "python3"
    },
    "language_info": {
      "codemirror_mode": {
        "name": "ipython",
        "version": 3
      },
      "file_extension": ".py",
      "mimetype": "text/x-python",
      "name": "python",
      "nbconvert_exporter": "python",
      "pygments_lexer": "ipython3",
      "version": "3.8.10"
    }
  },
  "nbformat": 4,
  "nbformat_minor": 0
}
